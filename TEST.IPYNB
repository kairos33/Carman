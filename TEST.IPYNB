{
 "cells": [
  {
   "cell_type": "code",
   "execution_count": 28,
   "id": "e22fbeba",
   "metadata": {},
   "outputs": [],
   "source": [
    "import pandas as pd\n",
    "from datetime import date"
   ]
  },
  {
   "cell_type": "code",
   "execution_count": 22,
   "id": "dc7e110b",
   "metadata": {},
   "outputs": [],
   "source": [
    "df = pd.read_csv('data.csv')\n"
   ]
  },
  {
   "cell_type": "code",
   "execution_count": 23,
   "id": "5ec52790",
   "metadata": {},
   "outputs": [
    {
     "data": {
      "text/html": [
       "<div>\n",
       "<style scoped>\n",
       "    .dataframe tbody tr th:only-of-type {\n",
       "        vertical-align: middle;\n",
       "    }\n",
       "\n",
       "    .dataframe tbody tr th {\n",
       "        vertical-align: top;\n",
       "    }\n",
       "\n",
       "    .dataframe thead th {\n",
       "        text-align: right;\n",
       "    }\n",
       "</style>\n",
       "<table border=\"1\" class=\"dataframe\">\n",
       "  <thead>\n",
       "    <tr style=\"text-align: right;\">\n",
       "      <th></th>\n",
       "      <th>DATE</th>\n",
       "      <th>DISTANCE</th>\n",
       "      <th>COST</th>\n",
       "      <th>LITER</th>\n",
       "      <th>PRICE</th>\n",
       "      <th>COM</th>\n",
       "    </tr>\n",
       "  </thead>\n",
       "  <tbody>\n",
       "    <tr>\n",
       "      <th>0</th>\n",
       "      <td>2025-03-31</td>\n",
       "      <td>28</td>\n",
       "      <td>67074</td>\n",
       "      <td>42.00</td>\n",
       "      <td>1597</td>\n",
       "      <td>S-OIL</td>\n",
       "    </tr>\n",
       "    <tr>\n",
       "      <th>1</th>\n",
       "      <td>2025-04-21</td>\n",
       "      <td>755</td>\n",
       "      <td>70000</td>\n",
       "      <td>44.47</td>\n",
       "      <td>1574</td>\n",
       "      <td>S-OIL</td>\n",
       "    </tr>\n",
       "    <tr>\n",
       "      <th>2</th>\n",
       "      <td>2025-05-04</td>\n",
       "      <td>1306</td>\n",
       "      <td>50000</td>\n",
       "      <td>31.67</td>\n",
       "      <td>1579</td>\n",
       "      <td>S-OIL</td>\n",
       "    </tr>\n",
       "    <tr>\n",
       "      <th>3</th>\n",
       "      <td>2025-06-13</td>\n",
       "      <td>1825</td>\n",
       "      <td>30000</td>\n",
       "      <td>19.46</td>\n",
       "      <td>1542</td>\n",
       "      <td>S-OIL</td>\n",
       "    </tr>\n",
       "    <tr>\n",
       "      <th>4</th>\n",
       "      <td>2025-06-16</td>\n",
       "      <td>1918</td>\n",
       "      <td>30000</td>\n",
       "      <td>19.46</td>\n",
       "      <td>1542</td>\n",
       "      <td>S-OIL</td>\n",
       "    </tr>\n",
       "    <tr>\n",
       "      <th>5</th>\n",
       "      <td>2025-07-01</td>\n",
       "      <td>2409</td>\n",
       "      <td>30000</td>\n",
       "      <td>18.55</td>\n",
       "      <td>1617</td>\n",
       "      <td>NH</td>\n",
       "    </tr>\n",
       "    <tr>\n",
       "      <th>6</th>\n",
       "      <td>2025-07-20</td>\n",
       "      <td>2710</td>\n",
       "      <td>30000</td>\n",
       "      <td>18.54</td>\n",
       "      <td>1617</td>\n",
       "      <td>S-OIL</td>\n",
       "    </tr>\n",
       "  </tbody>\n",
       "</table>\n",
       "</div>"
      ],
      "text/plain": [
       "         DATE  DISTANCE   COST  LITER  PRICE    COM\n",
       "0  2025-03-31        28  67074  42.00   1597  S-OIL\n",
       "1  2025-04-21       755  70000  44.47   1574  S-OIL\n",
       "2  2025-05-04      1306  50000  31.67   1579  S-OIL\n",
       "3  2025-06-13      1825  30000  19.46   1542  S-OIL\n",
       "4  2025-06-16      1918  30000  19.46   1542  S-OIL\n",
       "5  2025-07-01      2409  30000  18.55   1617     NH\n",
       "6  2025-07-20      2710  30000  18.54   1617  S-OIL"
      ]
     },
     "execution_count": 23,
     "metadata": {},
     "output_type": "execute_result"
    }
   ],
   "source": [
    "df\n"
   ]
  },
  {
   "cell_type": "code",
   "execution_count": 24,
   "id": "e8b3cede",
   "metadata": {},
   "outputs": [
    {
     "data": {
      "text/plain": [
       "<bound method DataFrame.info of          DATE  DISTANCE   COST  LITER  PRICE    COM\n",
       "0  2025-03-31        28  67074  42.00   1597  S-OIL\n",
       "1  2025-04-21       755  70000  44.47   1574  S-OIL\n",
       "2  2025-05-04      1306  50000  31.67   1579  S-OIL\n",
       "3  2025-06-13      1825  30000  19.46   1542  S-OIL\n",
       "4  2025-06-16      1918  30000  19.46   1542  S-OIL\n",
       "5  2025-07-01      2409  30000  18.55   1617     NH\n",
       "6  2025-07-20      2710  30000  18.54   1617  S-OIL>"
      ]
     },
     "execution_count": 24,
     "metadata": {},
     "output_type": "execute_result"
    }
   ],
   "source": [
    "df.info"
   ]
  },
  {
   "cell_type": "code",
   "execution_count": 13,
   "id": "31291403",
   "metadata": {},
   "outputs": [],
   "source": [
    "li = ['2025-07-23', 2900, 30000, 18.00, 1624, 'S-OIL']\n"
   ]
  },
  {
   "cell_type": "code",
   "execution_count": 14,
   "id": "f58bf201",
   "metadata": {},
   "outputs": [
    {
     "data": {
      "text/plain": [
       "7"
      ]
     },
     "execution_count": 14,
     "metadata": {},
     "output_type": "execute_result"
    }
   ],
   "source": [
    "len(df)"
   ]
  },
  {
   "cell_type": "code",
   "execution_count": 15,
   "id": "b2ee7576",
   "metadata": {},
   "outputs": [],
   "source": [
    "df.loc[len(df)] = li"
   ]
  },
  {
   "cell_type": "code",
   "execution_count": 25,
   "id": "fd427f72",
   "metadata": {},
   "outputs": [
    {
     "data": {
      "text/plain": [
       "0   2025-03-31\n",
       "1   2025-04-21\n",
       "2   2025-05-04\n",
       "3   2025-06-13\n",
       "4   2025-06-16\n",
       "5   2025-07-01\n",
       "6   2025-07-20\n",
       "Name: DATE, dtype: datetime64[ns]"
      ]
     },
     "execution_count": 25,
     "metadata": {},
     "output_type": "execute_result"
    }
   ],
   "source": [
    "pd.to_datetime(df['DATE'])"
   ]
  },
  {
   "cell_type": "code",
   "execution_count": 31,
   "id": "1b7a2e4c",
   "metadata": {},
   "outputs": [
    {
     "name": "stdout",
     "output_type": "stream",
     "text": [
      "2025-07-23\n"
     ]
    }
   ],
   "source": [
    "today = date.today()\n",
    "print(today)"
   ]
  },
  {
   "cell_type": "code",
   "execution_count": 26,
   "id": "7e79d6ce",
   "metadata": {},
   "outputs": [],
   "source": [
    "df.to_csv('data.csv', index=False, date_format='%Y-%m-%d')"
   ]
  }
 ],
 "metadata": {
  "kernelspec": {
   "display_name": "Python 3",
   "language": "python",
   "name": "python3"
  },
  "language_info": {
   "codemirror_mode": {
    "name": "ipython",
    "version": 3
   },
   "file_extension": ".py",
   "mimetype": "text/x-python",
   "name": "python",
   "nbconvert_exporter": "python",
   "pygments_lexer": "ipython3",
   "version": "3.13.3"
  }
 },
 "nbformat": 4,
 "nbformat_minor": 5
}
