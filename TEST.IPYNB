{
 "cells": [
  {
   "cell_type": "code",
   "execution_count": 1,
   "id": "e22fbeba",
   "metadata": {},
   "outputs": [],
   "source": [
    "import pandas as pd\n",
    "from datetime import date"
   ]
  },
  {
   "cell_type": "code",
   "execution_count": 2,
   "id": "dc7e110b",
   "metadata": {},
   "outputs": [],
   "source": [
    "df = pd.read_csv('data.csv')\n"
   ]
  },
  {
   "cell_type": "code",
   "execution_count": 3,
   "id": "5ec52790",
   "metadata": {},
   "outputs": [
    {
     "data": {
      "text/html": [
       "<div>\n",
       "<style scoped>\n",
       "    .dataframe tbody tr th:only-of-type {\n",
       "        vertical-align: middle;\n",
       "    }\n",
       "\n",
       "    .dataframe tbody tr th {\n",
       "        vertical-align: top;\n",
       "    }\n",
       "\n",
       "    .dataframe thead th {\n",
       "        text-align: right;\n",
       "    }\n",
       "</style>\n",
       "<table border=\"1\" class=\"dataframe\">\n",
       "  <thead>\n",
       "    <tr style=\"text-align: right;\">\n",
       "      <th></th>\n",
       "      <th>DATE</th>\n",
       "      <th>DISTANCE</th>\n",
       "      <th>COST</th>\n",
       "      <th>PRICE</th>\n",
       "      <th>LITER</th>\n",
       "      <th>COM</th>\n",
       "    </tr>\n",
       "  </thead>\n",
       "  <tbody>\n",
       "    <tr>\n",
       "      <th>0</th>\n",
       "      <td>2025-03-31</td>\n",
       "      <td>28</td>\n",
       "      <td>67074</td>\n",
       "      <td>1597</td>\n",
       "      <td>42.00</td>\n",
       "      <td>S-OIL</td>\n",
       "    </tr>\n",
       "    <tr>\n",
       "      <th>1</th>\n",
       "      <td>2025-04-21</td>\n",
       "      <td>755</td>\n",
       "      <td>70000</td>\n",
       "      <td>1574</td>\n",
       "      <td>44.47</td>\n",
       "      <td>S-OIL</td>\n",
       "    </tr>\n",
       "    <tr>\n",
       "      <th>2</th>\n",
       "      <td>2025-05-04</td>\n",
       "      <td>1306</td>\n",
       "      <td>50000</td>\n",
       "      <td>1579</td>\n",
       "      <td>31.67</td>\n",
       "      <td>S-OIL</td>\n",
       "    </tr>\n",
       "    <tr>\n",
       "      <th>3</th>\n",
       "      <td>2025-06-13</td>\n",
       "      <td>1825</td>\n",
       "      <td>30000</td>\n",
       "      <td>1542</td>\n",
       "      <td>19.46</td>\n",
       "      <td>S-OIL</td>\n",
       "    </tr>\n",
       "    <tr>\n",
       "      <th>4</th>\n",
       "      <td>2025-06-16</td>\n",
       "      <td>1918</td>\n",
       "      <td>30000</td>\n",
       "      <td>1542</td>\n",
       "      <td>19.46</td>\n",
       "      <td>S-OIL</td>\n",
       "    </tr>\n",
       "    <tr>\n",
       "      <th>5</th>\n",
       "      <td>2025-07-01</td>\n",
       "      <td>2409</td>\n",
       "      <td>30000</td>\n",
       "      <td>1617</td>\n",
       "      <td>18.55</td>\n",
       "      <td>NH</td>\n",
       "    </tr>\n",
       "    <tr>\n",
       "      <th>6</th>\n",
       "      <td>2025-07-20</td>\n",
       "      <td>2710</td>\n",
       "      <td>30000</td>\n",
       "      <td>1617</td>\n",
       "      <td>18.54</td>\n",
       "      <td>S-OIL</td>\n",
       "    </tr>\n",
       "  </tbody>\n",
       "</table>\n",
       "</div>"
      ],
      "text/plain": [
       "         DATE  DISTANCE   COST  PRICE  LITER    COM\n",
       "0  2025-03-31        28  67074   1597  42.00  S-OIL\n",
       "1  2025-04-21       755  70000   1574  44.47  S-OIL\n",
       "2  2025-05-04      1306  50000   1579  31.67  S-OIL\n",
       "3  2025-06-13      1825  30000   1542  19.46  S-OIL\n",
       "4  2025-06-16      1918  30000   1542  19.46  S-OIL\n",
       "5  2025-07-01      2409  30000   1617  18.55     NH\n",
       "6  2025-07-20      2710  30000   1617  18.54  S-OIL"
      ]
     },
     "execution_count": 3,
     "metadata": {},
     "output_type": "execute_result"
    }
   ],
   "source": [
    "df\n"
   ]
  },
  {
   "cell_type": "code",
   "execution_count": 27,
   "id": "e8b3cede",
   "metadata": {},
   "outputs": [
    {
     "data": {
      "text/plain": [
       "np.int64(2710)"
      ]
     },
     "execution_count": 27,
     "metadata": {},
     "output_type": "execute_result"
    }
   ],
   "source": [
    "# df.loc[len(df)-1, 'DISTANCE']\n",
    "df.iloc[-1,1]"
   ]
  },
  {
   "cell_type": "code",
   "execution_count": 20,
   "id": "8c2ec3b5",
   "metadata": {},
   "outputs": [
    {
     "data": {
      "text/plain": [
       "np.float64(175.61)"
      ]
     },
     "execution_count": 20,
     "metadata": {},
     "output_type": "execute_result"
    }
   ],
   "source": [
    "df.iloc[0:-1, 4].sum()"
   ]
  },
  {
   "cell_type": "code",
   "execution_count": 31,
   "id": "9d5efb40",
   "metadata": {},
   "outputs": [
    {
     "data": {
      "text/html": [
       "<div>\n",
       "<style scoped>\n",
       "    .dataframe tbody tr th:only-of-type {\n",
       "        vertical-align: middle;\n",
       "    }\n",
       "\n",
       "    .dataframe tbody tr th {\n",
       "        vertical-align: top;\n",
       "    }\n",
       "\n",
       "    .dataframe thead th {\n",
       "        text-align: right;\n",
       "    }\n",
       "</style>\n",
       "<table border=\"1\" class=\"dataframe\">\n",
       "  <thead>\n",
       "    <tr style=\"text-align: right;\">\n",
       "      <th></th>\n",
       "      <th>COST</th>\n",
       "      <th>LITER</th>\n",
       "    </tr>\n",
       "    <tr>\n",
       "      <th>COM</th>\n",
       "      <th></th>\n",
       "      <th></th>\n",
       "    </tr>\n",
       "  </thead>\n",
       "  <tbody>\n",
       "    <tr>\n",
       "      <th>NH</th>\n",
       "      <td>30000</td>\n",
       "      <td>18.55</td>\n",
       "    </tr>\n",
       "    <tr>\n",
       "      <th>S-OIL</th>\n",
       "      <td>277074</td>\n",
       "      <td>175.60</td>\n",
       "    </tr>\n",
       "  </tbody>\n",
       "</table>\n",
       "</div>"
      ],
      "text/plain": [
       "         COST   LITER\n",
       "COM                  \n",
       "NH      30000   18.55\n",
       "S-OIL  277074  175.60"
      ]
     },
     "execution_count": 31,
     "metadata": {},
     "output_type": "execute_result"
    }
   ],
   "source": [
    "df.groupby('COM')[['COST','LITER']].sum()"
   ]
  },
  {
   "cell_type": "code",
   "execution_count": 13,
   "id": "31291403",
   "metadata": {},
   "outputs": [],
   "source": [
    "li = ['2025-07-23', 2900, 30000, 18.00, 1624, 'S-OIL']\n"
   ]
  },
  {
   "cell_type": "code",
   "execution_count": 14,
   "id": "f58bf201",
   "metadata": {},
   "outputs": [
    {
     "data": {
      "text/plain": [
       "7"
      ]
     },
     "execution_count": 14,
     "metadata": {},
     "output_type": "execute_result"
    }
   ],
   "source": [
    "len(df)"
   ]
  },
  {
   "cell_type": "code",
   "execution_count": 15,
   "id": "b2ee7576",
   "metadata": {},
   "outputs": [],
   "source": [
    "df.loc[len(df)] = li"
   ]
  },
  {
   "cell_type": "code",
   "execution_count": 25,
   "id": "fd427f72",
   "metadata": {},
   "outputs": [
    {
     "data": {
      "text/plain": [
       "0   2025-03-31\n",
       "1   2025-04-21\n",
       "2   2025-05-04\n",
       "3   2025-06-13\n",
       "4   2025-06-16\n",
       "5   2025-07-01\n",
       "6   2025-07-20\n",
       "Name: DATE, dtype: datetime64[ns]"
      ]
     },
     "execution_count": 25,
     "metadata": {},
     "output_type": "execute_result"
    }
   ],
   "source": [
    "pd.to_datetime(df['DATE'])"
   ]
  },
  {
   "cell_type": "code",
   "execution_count": 31,
   "id": "1b7a2e4c",
   "metadata": {},
   "outputs": [
    {
     "name": "stdout",
     "output_type": "stream",
     "text": [
      "2025-07-23\n"
     ]
    }
   ],
   "source": [
    "today = date.today()\n",
    "print(today)"
   ]
  },
  {
   "cell_type": "code",
   "execution_count": 26,
   "id": "7e79d6ce",
   "metadata": {},
   "outputs": [],
   "source": [
    "df.to_csv('data.csv', index=False, date_format='%Y-%m-%d')"
   ]
  }
 ],
 "metadata": {
  "kernelspec": {
   "display_name": "Python 3",
   "language": "python",
   "name": "python3"
  },
  "language_info": {
   "codemirror_mode": {
    "name": "ipython",
    "version": 3
   },
   "file_extension": ".py",
   "mimetype": "text/x-python",
   "name": "python",
   "nbconvert_exporter": "python",
   "pygments_lexer": "ipython3",
   "version": "3.13.3"
  }
 },
 "nbformat": 4,
 "nbformat_minor": 5
}
